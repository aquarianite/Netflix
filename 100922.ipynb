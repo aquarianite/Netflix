{
 "cells": [
  {
   "cell_type": "markdown",
   "metadata": {},
   "source": [
    "# Project : Over the Moon\n",
    "\n",
    "by DARJYO, 10 Sep 2022\n",
    "\n",
    "\n",
    "\n",
    "This is the project notebook for the Microsoft's Explore space with Python.\n",
    "\n",
    "\n",
    "Though NASA's Astromaterials Acquisition and Curation Office (https://curator.jsc.nasa.gov/)  has a list of all extraterrestrial samples from the Moon and elsewhere, this Project focuses on those collected from the Moon. Across the six Apollo missions that landed humans on the Moon, and the three lunar missions that landed robotic probes on the Moon, they have successfully returned 383 kilograms (over 800 pounds) of rocks, soil, core samples. All of these samples have been categorized and photographed and are available to view on the NASA Lunar Sample and Photo Catalog (https://curator.jsc.nasa.gov/lunar/samplecatalog/index.cfm).\n",
    "\n",
    "\n",
    "This Project begins to explore how you can use data and a bit of Python coding to come up with an understanding of what we have, and make recommendations for what the next pair of astronauts should look for when they land on the Moon as part of the Artemis program in 2024.\n",
    "\n",
    "The following questions will be answered:\n",
    "   - Gathered information about samples brought back from the Moon via the Apollo missions.\n",
    "   - Acquired data about the types of spacecraft and rockets used for the Apollo and upcoming Artemis missions.\n",
    "   - Compiled DataFrames, or tables, of that data, which tells stories and provides insights.\n",
    "   - Created a prediction of how much sample weight could be returned from the Artemis missions.\n",
    "   - Made a recommendation for the amount and types of rocks the Artemis astronauts should focus their efforts on, based on the rocks that are currently being used for research here on Earth.\n",
    "\n",
    "\n",
    "\n"
   ]
  },
  {
   "cell_type": "markdown",
   "metadata": {},
   "source": [
    "# The Apollo program\n",
    "\n",
    "The Apollo program focused on using the Saturn V rocket to send humans into space and onto the Moon. The Saturn V (https://www.nasa.gov/centers/johnson/rocketpark/saturn_v.html) rocket that was used in the Apollo program is known as a three-stage rocket. This means that the rocket has three parts, each of which burns at a different times to achieve a different goal.\n",
    "\n",
    "The first stage is the main thrust portion that gets the rocket to about 68 kilometers into the sky, and then it falls away back to Earth, making the rocket significantly lighter. The second stage starts burning its engines until the rocket nearly reaches Earth's orbit and likewise falls back down to Earth. The final stage gets the spacecraft into Earth's orbit and thrusts it toward the Moon.\n",
    "\n",
    "The Apollo program and Saturn V is that for lunar landings there are two important modules:\n",
    "\n",
    "- Command module: The module that astronauts live in. When two astronauts are down on the surface of the Moon, the third astronaut stays in the \n",
    "  command module. This module is returned to Earth.\n",
    "- Lunar module: The module that detaches from the command module after it has reached orbit around the Moon. This module lands on the surface of the Moon and can carry two astronauts. When the lunar module returns from the surface to the command module, it leaves part of the base (the landing gear) on the surface of the Moon.\n",
    "\n",
    "\n",
    "The modules are critical parts of the ship because they are designed precisely to ensure that the astronauts can enter the Moon's orbit, orbit the Moon, land on the Moon, launch from the Moon, and return safely to Earth. The amount of space and weight on each of these modules is precise to ensure the safety and success of the mission. It is fair to conclude that the specifications around these modules affect the amount of mineral samples that can be collected, because the samples have to be carried on each of these modules before returning to Earth."
   ]
  },
  {
   "cell_type": "markdown",
   "metadata": {},
   "source": [
    "# Getting the data\n",
    "\n",
    "The data explored during this Project is a file full of all the samples collected from the six Apollo missions that landed on the Moon. Right-click on the following URL and choose 'Open Link in New Window' (or similar, depending on your browser):\n",
    "\n",
    "https://curator.jsc.nasa.gov/lunar/samplecatalog/index.cfm\n",
    "\n",
    "You can copy each data directly from the browser to a text editor like Notepad or TextEdit, to obtain a single file with as many  as you wish or all.\n",
    "\n",
    "Now load the CSV file into a dataframe making sure that any extra spaces are skipped:"
   ]
  },
  {
   "cell_type": "code",
   "execution_count": 1,
   "metadata": {},
   "outputs": [],
   "source": [
    "import pandas as pd"
   ]
  },
  {
   "cell_type": "code",
   "execution_count": 2,
   "metadata": {},
   "outputs": [],
   "source": [
    "rock_samples = pd.read_csv('data/rocksamples.csv') "
   ]
  },
  {
   "cell_type": "code",
   "execution_count": 3,
   "metadata": {},
   "outputs": [
    {
     "data": {
      "text/html": [
       "<div>\n",
       "<style scoped>\n",
       "    .dataframe tbody tr th:only-of-type {\n",
       "        vertical-align: middle;\n",
       "    }\n",
       "\n",
       "    .dataframe tbody tr th {\n",
       "        vertical-align: top;\n",
       "    }\n",
       "\n",
       "    .dataframe thead th {\n",
       "        text-align: right;\n",
       "    }\n",
       "</style>\n",
       "<table border=\"1\" class=\"dataframe\">\n",
       "  <thead>\n",
       "    <tr style=\"text-align: right;\">\n",
       "      <th></th>\n",
       "      <th>ID</th>\n",
       "      <th>Mission</th>\n",
       "      <th>Type</th>\n",
       "      <th>Subtype</th>\n",
       "      <th>Weight (g)</th>\n",
       "      <th>Pristine (%)</th>\n",
       "    </tr>\n",
       "  </thead>\n",
       "  <tbody>\n",
       "    <tr>\n",
       "      <th>0</th>\n",
       "      <td>10001</td>\n",
       "      <td>Apollo11</td>\n",
       "      <td>Soil</td>\n",
       "      <td>Unsieved</td>\n",
       "      <td>125.8</td>\n",
       "      <td>88.36</td>\n",
       "    </tr>\n",
       "    <tr>\n",
       "      <th>1</th>\n",
       "      <td>10002</td>\n",
       "      <td>Apollo11</td>\n",
       "      <td>Soil</td>\n",
       "      <td>Unsieved</td>\n",
       "      <td>5629.0</td>\n",
       "      <td>93.73</td>\n",
       "    </tr>\n",
       "    <tr>\n",
       "      <th>2</th>\n",
       "      <td>10003</td>\n",
       "      <td>Apollo11</td>\n",
       "      <td>Basalt</td>\n",
       "      <td>Ilmenite</td>\n",
       "      <td>213.0</td>\n",
       "      <td>65.56</td>\n",
       "    </tr>\n",
       "    <tr>\n",
       "      <th>3</th>\n",
       "      <td>10004</td>\n",
       "      <td>Apollo11</td>\n",
       "      <td>Core</td>\n",
       "      <td>Unsieved</td>\n",
       "      <td>44.8</td>\n",
       "      <td>71.76</td>\n",
       "    </tr>\n",
       "    <tr>\n",
       "      <th>4</th>\n",
       "      <td>10005</td>\n",
       "      <td>Apollo11</td>\n",
       "      <td>Core</td>\n",
       "      <td>Unsieved</td>\n",
       "      <td>53.4</td>\n",
       "      <td>40.31</td>\n",
       "    </tr>\n",
       "  </tbody>\n",
       "</table>\n",
       "</div>"
      ],
      "text/plain": [
       "      ID   Mission    Type   Subtype  Weight (g)  Pristine (%)\n",
       "0  10001  Apollo11    Soil  Unsieved       125.8         88.36\n",
       "1  10002  Apollo11    Soil  Unsieved      5629.0         93.73\n",
       "2  10003  Apollo11  Basalt  Ilmenite       213.0         65.56\n",
       "3  10004  Apollo11    Core  Unsieved        44.8         71.76\n",
       "4  10005  Apollo11    Core  Unsieved        53.4         40.31"
      ]
     },
     "execution_count": 3,
     "metadata": {},
     "output_type": "execute_result"
    }
   ],
   "source": [
    "rock_samples.head()"
   ]
  },
  {
   "cell_type": "code",
   "execution_count": 4,
   "metadata": {},
   "outputs": [
    {
     "data": {
      "text/plain": [
       "<bound method DataFrame.info of          ID   Mission     Type   Subtype  Weight (g)  Pristine (%)\n",
       "0     10001  Apollo11     Soil  Unsieved      125.80         88.36\n",
       "1     10002  Apollo11     Soil  Unsieved     5629.00         93.73\n",
       "2     10003  Apollo11   Basalt  Ilmenite      213.00         65.56\n",
       "3     10004  Apollo11     Core  Unsieved       44.80         71.76\n",
       "4     10005  Apollo11     Core  Unsieved       53.40         40.31\n",
       "...     ...       ...      ...       ...         ...           ...\n",
       "2224  79528  Apollo17  Breccia  Regolith        2.38        100.00\n",
       "2225  79529  Apollo17  Breccia  Regolith        1.84        100.00\n",
       "2226  79535  Apollo17  Breccia  Regolith        1.69        100.00\n",
       "2227  79536  Apollo17  Breccia  Regolith        1.66        100.00\n",
       "2228  79537  Apollo17  Breccia  Regolith        1.05        100.00\n",
       "\n",
       "[2229 rows x 6 columns]>"
      ]
     },
     "execution_count": 4,
     "metadata": {},
     "output_type": "execute_result"
    }
   ],
   "source": [
    "rock_samples.info"
   ]
  },
  {
   "cell_type": "code",
   "execution_count": 5,
   "metadata": {},
   "outputs": [
    {
     "data": {
      "text/plain": [
       "ID                int64\n",
       "Mission          object\n",
       "Type             object\n",
       "Subtype          object\n",
       "Weight (g)      float64\n",
       "Pristine (%)    float64\n",
       "dtype: object"
      ]
     },
     "execution_count": 5,
     "metadata": {},
     "output_type": "execute_result"
    }
   ],
   "source": [
    "rock_samples.dtypes"
   ]
  },
  {
   "cell_type": "markdown",
   "metadata": {},
   "source": [
    "Modifying the values in the Weight (g) column to be the same value multiplied by 0.001. Then modifying the name of the column to be more accurate by changing it to Weight (kg)."
   ]
  },
  {
   "cell_type": "code",
   "execution_count": 6,
   "metadata": {},
   "outputs": [
    {
     "data": {
      "text/html": [
       "<div>\n",
       "<style scoped>\n",
       "    .dataframe tbody tr th:only-of-type {\n",
       "        vertical-align: middle;\n",
       "    }\n",
       "\n",
       "    .dataframe tbody tr th {\n",
       "        vertical-align: top;\n",
       "    }\n",
       "\n",
       "    .dataframe thead th {\n",
       "        text-align: right;\n",
       "    }\n",
       "</style>\n",
       "<table border=\"1\" class=\"dataframe\">\n",
       "  <thead>\n",
       "    <tr style=\"text-align: right;\">\n",
       "      <th></th>\n",
       "      <th>ID</th>\n",
       "      <th>Mission</th>\n",
       "      <th>Type</th>\n",
       "      <th>Subtype</th>\n",
       "      <th>Weight (kg)</th>\n",
       "      <th>Pristine (%)</th>\n",
       "    </tr>\n",
       "  </thead>\n",
       "  <tbody>\n",
       "    <tr>\n",
       "      <th>0</th>\n",
       "      <td>10001</td>\n",
       "      <td>Apollo11</td>\n",
       "      <td>Soil</td>\n",
       "      <td>Unsieved</td>\n",
       "      <td>0.1258</td>\n",
       "      <td>88.36</td>\n",
       "    </tr>\n",
       "    <tr>\n",
       "      <th>1</th>\n",
       "      <td>10002</td>\n",
       "      <td>Apollo11</td>\n",
       "      <td>Soil</td>\n",
       "      <td>Unsieved</td>\n",
       "      <td>5.6290</td>\n",
       "      <td>93.73</td>\n",
       "    </tr>\n",
       "    <tr>\n",
       "      <th>2</th>\n",
       "      <td>10003</td>\n",
       "      <td>Apollo11</td>\n",
       "      <td>Basalt</td>\n",
       "      <td>Ilmenite</td>\n",
       "      <td>0.2130</td>\n",
       "      <td>65.56</td>\n",
       "    </tr>\n",
       "    <tr>\n",
       "      <th>3</th>\n",
       "      <td>10004</td>\n",
       "      <td>Apollo11</td>\n",
       "      <td>Core</td>\n",
       "      <td>Unsieved</td>\n",
       "      <td>0.0448</td>\n",
       "      <td>71.76</td>\n",
       "    </tr>\n",
       "    <tr>\n",
       "      <th>4</th>\n",
       "      <td>10005</td>\n",
       "      <td>Apollo11</td>\n",
       "      <td>Core</td>\n",
       "      <td>Unsieved</td>\n",
       "      <td>0.0534</td>\n",
       "      <td>40.31</td>\n",
       "    </tr>\n",
       "  </tbody>\n",
       "</table>\n",
       "</div>"
      ],
      "text/plain": [
       "      ID   Mission    Type   Subtype  Weight (kg)  Pristine (%)\n",
       "0  10001  Apollo11    Soil  Unsieved       0.1258         88.36\n",
       "1  10002  Apollo11    Soil  Unsieved       5.6290         93.73\n",
       "2  10003  Apollo11  Basalt  Ilmenite       0.2130         65.56\n",
       "3  10004  Apollo11    Core  Unsieved       0.0448         71.76\n",
       "4  10005  Apollo11    Core  Unsieved       0.0534         40.31"
      ]
     },
     "execution_count": 6,
     "metadata": {},
     "output_type": "execute_result"
    }
   ],
   "source": [
    "rock_samples['Weight (g)'] = rock_samples['Weight (g)'].apply(lambda x : x * 0.001)\n",
    "rock_samples.rename(columns={'Weight (g)':'Weight (kg)'}, inplace=True)\n",
    "rock_samples.head()"
   ]
  },
  {
   "cell_type": "markdown",
   "metadata": {},
   "source": [
    "# Creating a new DataFrame\n",
    "\n",
    "The rock_samples DataFrame has a row for every sample that was collected but, as mentioned earlier, to understand the rock samples in total as they relate to the specific rockets that brought them back.\n",
    "\n",
    "Creating a new DataFrame called missions that will be a summary of data for each of the six Apollo missions that brought samples back. Creating a column in this DataFrame called Mission that has one row for each mission."
   ]
  },
  {
   "cell_type": "code",
   "execution_count": 7,
   "metadata": {},
   "outputs": [
    {
     "data": {
      "text/html": [
       "<div>\n",
       "<style scoped>\n",
       "    .dataframe tbody tr th:only-of-type {\n",
       "        vertical-align: middle;\n",
       "    }\n",
       "\n",
       "    .dataframe tbody tr th {\n",
       "        vertical-align: top;\n",
       "    }\n",
       "\n",
       "    .dataframe thead th {\n",
       "        text-align: right;\n",
       "    }\n",
       "</style>\n",
       "<table border=\"1\" class=\"dataframe\">\n",
       "  <thead>\n",
       "    <tr style=\"text-align: right;\">\n",
       "      <th></th>\n",
       "      <th>Mission</th>\n",
       "    </tr>\n",
       "  </thead>\n",
       "  <tbody>\n",
       "    <tr>\n",
       "      <th>0</th>\n",
       "      <td>Apollo11</td>\n",
       "    </tr>\n",
       "    <tr>\n",
       "      <th>1</th>\n",
       "      <td>Apollo12</td>\n",
       "    </tr>\n",
       "    <tr>\n",
       "      <th>2</th>\n",
       "      <td>Apollo14</td>\n",
       "    </tr>\n",
       "    <tr>\n",
       "      <th>3</th>\n",
       "      <td>Apollo15</td>\n",
       "    </tr>\n",
       "    <tr>\n",
       "      <th>4</th>\n",
       "      <td>Apollo16</td>\n",
       "    </tr>\n",
       "  </tbody>\n",
       "</table>\n",
       "</div>"
      ],
      "text/plain": [
       "    Mission\n",
       "0  Apollo11\n",
       "1  Apollo12\n",
       "2  Apollo14\n",
       "3  Apollo15\n",
       "4  Apollo16"
      ]
     },
     "execution_count": 7,
     "metadata": {},
     "output_type": "execute_result"
    }
   ],
   "source": [
    "missions = pd.DataFrame()\n",
    "missions['Mission'] = rock_samples['Mission'].unique()\n",
    "missions.head()"
   ]
  },
  {
   "cell_type": "code",
   "execution_count": 8,
   "metadata": {},
   "outputs": [
    {
     "name": "stdout",
     "output_type": "stream",
     "text": [
      "<class 'pandas.core.frame.DataFrame'>\n",
      "RangeIndex: 6 entries, 0 to 5\n",
      "Data columns (total 1 columns):\n",
      " #   Column   Non-Null Count  Dtype \n",
      "---  ------   --------------  ----- \n",
      " 0   Mission  6 non-null      object\n",
      "dtypes: object(1)\n",
      "memory usage: 176.0+ bytes\n"
     ]
    }
   ],
   "source": [
    "missions.info()"
   ]
  },
  {
   "cell_type": "markdown",
   "metadata": {},
   "source": [
    "# Sum total sample weight by mission\n",
    "\n",
    "Adding a new column to the missions DataFrame to represent the sum of all samples collected on that mission.\n",
    "\n",
    "Grouping all the rows by the values in the Mission column, grabing all the values in the Weight (kg) column, and groups it by unique values in the Mission column.\n",
    "\n",
    "Suming up all the values in the Weight (kg) column for each unique value in the Mission column and Merging the missions DataFrame with the sample_total_weight series by using the Mission column as the index to merge on."
   ]
  },
  {
   "cell_type": "code",
   "execution_count": 9,
   "metadata": {},
   "outputs": [
    {
     "data": {
      "text/html": [
       "<div>\n",
       "<style scoped>\n",
       "    .dataframe tbody tr th:only-of-type {\n",
       "        vertical-align: middle;\n",
       "    }\n",
       "\n",
       "    .dataframe tbody tr th {\n",
       "        vertical-align: top;\n",
       "    }\n",
       "\n",
       "    .dataframe thead th {\n",
       "        text-align: right;\n",
       "    }\n",
       "</style>\n",
       "<table border=\"1\" class=\"dataframe\">\n",
       "  <thead>\n",
       "    <tr style=\"text-align: right;\">\n",
       "      <th></th>\n",
       "      <th>Mission</th>\n",
       "      <th>Sample weight (kg)</th>\n",
       "    </tr>\n",
       "  </thead>\n",
       "  <tbody>\n",
       "    <tr>\n",
       "      <th>0</th>\n",
       "      <td>Apollo11</td>\n",
       "      <td>21.55424</td>\n",
       "    </tr>\n",
       "    <tr>\n",
       "      <th>1</th>\n",
       "      <td>Apollo12</td>\n",
       "      <td>34.34238</td>\n",
       "    </tr>\n",
       "    <tr>\n",
       "      <th>2</th>\n",
       "      <td>Apollo14</td>\n",
       "      <td>41.83363</td>\n",
       "    </tr>\n",
       "    <tr>\n",
       "      <th>3</th>\n",
       "      <td>Apollo15</td>\n",
       "      <td>75.39910</td>\n",
       "    </tr>\n",
       "    <tr>\n",
       "      <th>4</th>\n",
       "      <td>Apollo16</td>\n",
       "      <td>92.46262</td>\n",
       "    </tr>\n",
       "    <tr>\n",
       "      <th>5</th>\n",
       "      <td>Apollo17</td>\n",
       "      <td>109.44402</td>\n",
       "    </tr>\n",
       "  </tbody>\n",
       "</table>\n",
       "</div>"
      ],
      "text/plain": [
       "    Mission  Sample weight (kg)\n",
       "0  Apollo11            21.55424\n",
       "1  Apollo12            34.34238\n",
       "2  Apollo14            41.83363\n",
       "3  Apollo15            75.39910\n",
       "4  Apollo16            92.46262\n",
       "5  Apollo17           109.44402"
      ]
     },
     "execution_count": 9,
     "metadata": {},
     "output_type": "execute_result"
    }
   ],
   "source": [
    "sample_total_weight = rock_samples.groupby('Mission')['Weight (kg)'].sum()\n",
    "missions = pd.merge(missions, sample_total_weight, on='Mission')\n",
    "missions.rename(columns={'Weight (kg)':'Sample weight (kg)'}, inplace=True)\n",
    "missions"
   ]
  },
  {
   "cell_type": "markdown",
   "metadata": {},
   "source": [
    "# Get the difference in weights across missions\n",
    "I am not rocket experts, so it's important to take a look at a lot of different cross sections of data that are available to you. In this case, I will see that the total weight of the samples increased with each mission, but it's hard to immediately see by how much. So, adding one more column to the missions DataFrame that simply grabs the difference between the current row and the row preceding it:"
   ]
  },
  {
   "cell_type": "code",
   "execution_count": 10,
   "metadata": {},
   "outputs": [
    {
     "data": {
      "text/html": [
       "<div>\n",
       "<style scoped>\n",
       "    .dataframe tbody tr th:only-of-type {\n",
       "        vertical-align: middle;\n",
       "    }\n",
       "\n",
       "    .dataframe tbody tr th {\n",
       "        vertical-align: top;\n",
       "    }\n",
       "\n",
       "    .dataframe thead th {\n",
       "        text-align: right;\n",
       "    }\n",
       "</style>\n",
       "<table border=\"1\" class=\"dataframe\">\n",
       "  <thead>\n",
       "    <tr style=\"text-align: right;\">\n",
       "      <th></th>\n",
       "      <th>Mission</th>\n",
       "      <th>Sample weight (kg)</th>\n",
       "      <th>Weight diff</th>\n",
       "    </tr>\n",
       "  </thead>\n",
       "  <tbody>\n",
       "    <tr>\n",
       "      <th>0</th>\n",
       "      <td>Apollo11</td>\n",
       "      <td>21.55424</td>\n",
       "      <td>NaN</td>\n",
       "    </tr>\n",
       "    <tr>\n",
       "      <th>1</th>\n",
       "      <td>Apollo12</td>\n",
       "      <td>34.34238</td>\n",
       "      <td>12.78814</td>\n",
       "    </tr>\n",
       "    <tr>\n",
       "      <th>2</th>\n",
       "      <td>Apollo14</td>\n",
       "      <td>41.83363</td>\n",
       "      <td>7.49125</td>\n",
       "    </tr>\n",
       "    <tr>\n",
       "      <th>3</th>\n",
       "      <td>Apollo15</td>\n",
       "      <td>75.39910</td>\n",
       "      <td>33.56547</td>\n",
       "    </tr>\n",
       "    <tr>\n",
       "      <th>4</th>\n",
       "      <td>Apollo16</td>\n",
       "      <td>92.46262</td>\n",
       "      <td>17.06352</td>\n",
       "    </tr>\n",
       "    <tr>\n",
       "      <th>5</th>\n",
       "      <td>Apollo17</td>\n",
       "      <td>109.44402</td>\n",
       "      <td>16.98140</td>\n",
       "    </tr>\n",
       "  </tbody>\n",
       "</table>\n",
       "</div>"
      ],
      "text/plain": [
       "    Mission  Sample weight (kg)  Weight diff\n",
       "0  Apollo11            21.55424          NaN\n",
       "1  Apollo12            34.34238     12.78814\n",
       "2  Apollo14            41.83363      7.49125\n",
       "3  Apollo15            75.39910     33.56547\n",
       "4  Apollo16            92.46262     17.06352\n",
       "5  Apollo17           109.44402     16.98140"
      ]
     },
     "execution_count": 10,
     "metadata": {},
     "output_type": "execute_result"
    }
   ],
   "source": [
    "missions['Weight diff'] = missions['Sample weight (kg)'].diff()\n",
    "missions"
   ]
  },
  {
   "cell_type": "markdown",
   "metadata": {},
   "source": [
    "Notice that in the first row, for Apollo11, the value in the Weight diff column is NaN. Because Apollo11 was the first mission, there is no difference between the weight of the rock collected on Apollo11 and that of the previous mission. We can fill this NaN value with 0:"
   ]
  },
  {
   "cell_type": "code",
   "execution_count": 11,
   "metadata": {},
   "outputs": [
    {
     "data": {
      "text/html": [
       "<div>\n",
       "<style scoped>\n",
       "    .dataframe tbody tr th:only-of-type {\n",
       "        vertical-align: middle;\n",
       "    }\n",
       "\n",
       "    .dataframe tbody tr th {\n",
       "        vertical-align: top;\n",
       "    }\n",
       "\n",
       "    .dataframe thead th {\n",
       "        text-align: right;\n",
       "    }\n",
       "</style>\n",
       "<table border=\"1\" class=\"dataframe\">\n",
       "  <thead>\n",
       "    <tr style=\"text-align: right;\">\n",
       "      <th></th>\n",
       "      <th>Mission</th>\n",
       "      <th>Sample weight (kg)</th>\n",
       "      <th>Weight diff</th>\n",
       "    </tr>\n",
       "  </thead>\n",
       "  <tbody>\n",
       "    <tr>\n",
       "      <th>0</th>\n",
       "      <td>Apollo11</td>\n",
       "      <td>21.55424</td>\n",
       "      <td>0.00000</td>\n",
       "    </tr>\n",
       "    <tr>\n",
       "      <th>1</th>\n",
       "      <td>Apollo12</td>\n",
       "      <td>34.34238</td>\n",
       "      <td>12.78814</td>\n",
       "    </tr>\n",
       "    <tr>\n",
       "      <th>2</th>\n",
       "      <td>Apollo14</td>\n",
       "      <td>41.83363</td>\n",
       "      <td>7.49125</td>\n",
       "    </tr>\n",
       "    <tr>\n",
       "      <th>3</th>\n",
       "      <td>Apollo15</td>\n",
       "      <td>75.39910</td>\n",
       "      <td>33.56547</td>\n",
       "    </tr>\n",
       "    <tr>\n",
       "      <th>4</th>\n",
       "      <td>Apollo16</td>\n",
       "      <td>92.46262</td>\n",
       "      <td>17.06352</td>\n",
       "    </tr>\n",
       "    <tr>\n",
       "      <th>5</th>\n",
       "      <td>Apollo17</td>\n",
       "      <td>109.44402</td>\n",
       "      <td>16.98140</td>\n",
       "    </tr>\n",
       "  </tbody>\n",
       "</table>\n",
       "</div>"
      ],
      "text/plain": [
       "    Mission  Sample weight (kg)  Weight diff\n",
       "0  Apollo11            21.55424      0.00000\n",
       "1  Apollo12            34.34238     12.78814\n",
       "2  Apollo14            41.83363      7.49125\n",
       "3  Apollo15            75.39910     33.56547\n",
       "4  Apollo16            92.46262     17.06352\n",
       "5  Apollo17           109.44402     16.98140"
      ]
     },
     "execution_count": 11,
     "metadata": {},
     "output_type": "execute_result"
    }
   ],
   "source": [
    "missions['Weight diff'] = missions['Weight diff'].fillna(value=0)\n",
    "missions"
   ]
  },
  {
   "cell_type": "markdown",
   "metadata": {},
   "source": [
    "# Adding command and lunar module data\n",
    "By using the NASA Space Science Data Coordinated Archive (https://nssdc.gsfc.nasa.gov/nmc/SpacecraftQuery.jsp), I gathered information about each module used in each mission. Creating the samples tables, creating six new columns, three for the lunar modules and three for the command modules:\n",
    "\n",
    "- Module name\n",
    "- Module mass\n",
    "- Module mass diff\n",
    "\n",
    "Fill in any NaN values with 0:"
   ]
  },
  {
   "cell_type": "code",
   "execution_count": 12,
   "metadata": {},
   "outputs": [
    {
     "data": {
      "text/html": [
       "<div>\n",
       "<style scoped>\n",
       "    .dataframe tbody tr th:only-of-type {\n",
       "        vertical-align: middle;\n",
       "    }\n",
       "\n",
       "    .dataframe tbody tr th {\n",
       "        vertical-align: top;\n",
       "    }\n",
       "\n",
       "    .dataframe thead th {\n",
       "        text-align: right;\n",
       "    }\n",
       "</style>\n",
       "<table border=\"1\" class=\"dataframe\">\n",
       "  <thead>\n",
       "    <tr style=\"text-align: right;\">\n",
       "      <th></th>\n",
       "      <th>Mission</th>\n",
       "      <th>Sample weight (kg)</th>\n",
       "      <th>Weight diff</th>\n",
       "      <th>Lunar module (LM)</th>\n",
       "      <th>LM mass (kg)</th>\n",
       "      <th>LM mass diff</th>\n",
       "      <th>Command module (CM)</th>\n",
       "      <th>CM mass (kg)</th>\n",
       "      <th>CM mass diff</th>\n",
       "    </tr>\n",
       "  </thead>\n",
       "  <tbody>\n",
       "    <tr>\n",
       "      <th>0</th>\n",
       "      <td>Apollo11</td>\n",
       "      <td>21.55424</td>\n",
       "      <td>0.00000</td>\n",
       "      <td>Eagle (LM-5)</td>\n",
       "      <td>15103</td>\n",
       "      <td>0.0</td>\n",
       "      <td>Columbia (CSM-107)</td>\n",
       "      <td>5557</td>\n",
       "      <td>0.0</td>\n",
       "    </tr>\n",
       "    <tr>\n",
       "      <th>1</th>\n",
       "      <td>Apollo12</td>\n",
       "      <td>34.34238</td>\n",
       "      <td>12.78814</td>\n",
       "      <td>Intrepid (LM-6)</td>\n",
       "      <td>15235</td>\n",
       "      <td>132.0</td>\n",
       "      <td>Yankee Clipper (CM-108)</td>\n",
       "      <td>5609</td>\n",
       "      <td>52.0</td>\n",
       "    </tr>\n",
       "    <tr>\n",
       "      <th>2</th>\n",
       "      <td>Apollo14</td>\n",
       "      <td>41.83363</td>\n",
       "      <td>7.49125</td>\n",
       "      <td>Antares (LM-8)</td>\n",
       "      <td>15264</td>\n",
       "      <td>29.0</td>\n",
       "      <td>Kitty Hawk (CM-110)</td>\n",
       "      <td>5758</td>\n",
       "      <td>149.0</td>\n",
       "    </tr>\n",
       "    <tr>\n",
       "      <th>3</th>\n",
       "      <td>Apollo15</td>\n",
       "      <td>75.39910</td>\n",
       "      <td>33.56547</td>\n",
       "      <td>Falcon (LM-10)</td>\n",
       "      <td>16430</td>\n",
       "      <td>1166.0</td>\n",
       "      <td>Endeavor (CM-112)</td>\n",
       "      <td>5875</td>\n",
       "      <td>117.0</td>\n",
       "    </tr>\n",
       "    <tr>\n",
       "      <th>4</th>\n",
       "      <td>Apollo16</td>\n",
       "      <td>92.46262</td>\n",
       "      <td>17.06352</td>\n",
       "      <td>Orion (LM-11)</td>\n",
       "      <td>16445</td>\n",
       "      <td>15.0</td>\n",
       "      <td>Casper (CM-113)</td>\n",
       "      <td>5840</td>\n",
       "      <td>-35.0</td>\n",
       "    </tr>\n",
       "    <tr>\n",
       "      <th>5</th>\n",
       "      <td>Apollo17</td>\n",
       "      <td>109.44402</td>\n",
       "      <td>16.98140</td>\n",
       "      <td>Challenger (LM-12)</td>\n",
       "      <td>16456</td>\n",
       "      <td>11.0</td>\n",
       "      <td>America (CM-114)</td>\n",
       "      <td>5960</td>\n",
       "      <td>120.0</td>\n",
       "    </tr>\n",
       "  </tbody>\n",
       "</table>\n",
       "</div>"
      ],
      "text/plain": [
       "    Mission  Sample weight (kg)  Weight diff   Lunar module (LM)  \\\n",
       "0  Apollo11            21.55424      0.00000        Eagle (LM-5)   \n",
       "1  Apollo12            34.34238     12.78814     Intrepid (LM-6)   \n",
       "2  Apollo14            41.83363      7.49125      Antares (LM-8)   \n",
       "3  Apollo15            75.39910     33.56547      Falcon (LM-10)   \n",
       "4  Apollo16            92.46262     17.06352       Orion (LM-11)   \n",
       "5  Apollo17           109.44402     16.98140  Challenger (LM-12)   \n",
       "\n",
       "   LM mass (kg)  LM mass diff      Command module (CM)  CM mass (kg)  \\\n",
       "0         15103           0.0       Columbia (CSM-107)          5557   \n",
       "1         15235         132.0  Yankee Clipper (CM-108)          5609   \n",
       "2         15264          29.0      Kitty Hawk (CM-110)          5758   \n",
       "3         16430        1166.0        Endeavor (CM-112)          5875   \n",
       "4         16445          15.0          Casper (CM-113)          5840   \n",
       "5         16456          11.0         America (CM-114)          5960   \n",
       "\n",
       "   CM mass diff  \n",
       "0           0.0  \n",
       "1          52.0  \n",
       "2         149.0  \n",
       "3         117.0  \n",
       "4         -35.0  \n",
       "5         120.0  "
      ]
     },
     "execution_count": 12,
     "metadata": {},
     "output_type": "execute_result"
    }
   ],
   "source": [
    "missions['Lunar module (LM)'] = ['Eagle (LM-5)', 'Intrepid (LM-6)', 'Antares (LM-8)', 'Falcon (LM-10)', 'Orion (LM-11)', 'Challenger (LM-12)']\n",
    "missions['LM mass (kg)'] = [15103, 15235, 15264, 16430, 16445, 16456]\n",
    "missions['LM mass diff'] = missions['LM mass (kg)'].diff()\n",
    "missions['LM mass diff'] = missions['LM mass diff'].fillna(value=0)\n",
    "\n",
    "missions['Command module (CM)'] = ['Columbia (CSM-107)', 'Yankee Clipper (CM-108)', 'Kitty Hawk (CM-110)', 'Endeavor (CM-112)', 'Casper (CM-113)', 'America (CM-114)']\n",
    "missions['CM mass (kg)'] = [5557, 5609, 5758, 5875, 5840, 5960]\n",
    "missions['CM mass diff'] = missions['CM mass (kg)'].diff()\n",
    "missions['CM mass diff'] = missions['CM mass diff'].fillna(value=0)\n",
    "\n",
    "missions"
   ]
  },
  {
   "cell_type": "markdown",
   "metadata": {},
   "source": [
    "Adding Total weight and total difference for each mission across both the lunar and command modules:"
   ]
  },
  {
   "cell_type": "code",
   "execution_count": 13,
   "metadata": {},
   "outputs": [
    {
     "data": {
      "text/html": [
       "<div>\n",
       "<style scoped>\n",
       "    .dataframe tbody tr th:only-of-type {\n",
       "        vertical-align: middle;\n",
       "    }\n",
       "\n",
       "    .dataframe tbody tr th {\n",
       "        vertical-align: top;\n",
       "    }\n",
       "\n",
       "    .dataframe thead th {\n",
       "        text-align: right;\n",
       "    }\n",
       "</style>\n",
       "<table border=\"1\" class=\"dataframe\">\n",
       "  <thead>\n",
       "    <tr style=\"text-align: right;\">\n",
       "      <th></th>\n",
       "      <th>Mission</th>\n",
       "      <th>Sample weight (kg)</th>\n",
       "      <th>Weight diff</th>\n",
       "      <th>Lunar module (LM)</th>\n",
       "      <th>LM mass (kg)</th>\n",
       "      <th>LM mass diff</th>\n",
       "      <th>Command module (CM)</th>\n",
       "      <th>CM mass (kg)</th>\n",
       "      <th>CM mass diff</th>\n",
       "      <th>Total weight (kg)</th>\n",
       "      <th>Total weight diff</th>\n",
       "    </tr>\n",
       "  </thead>\n",
       "  <tbody>\n",
       "    <tr>\n",
       "      <th>0</th>\n",
       "      <td>Apollo11</td>\n",
       "      <td>21.55424</td>\n",
       "      <td>0.00000</td>\n",
       "      <td>Eagle (LM-5)</td>\n",
       "      <td>15103</td>\n",
       "      <td>0.0</td>\n",
       "      <td>Columbia (CSM-107)</td>\n",
       "      <td>5557</td>\n",
       "      <td>0.0</td>\n",
       "      <td>20660</td>\n",
       "      <td>0.0</td>\n",
       "    </tr>\n",
       "    <tr>\n",
       "      <th>1</th>\n",
       "      <td>Apollo12</td>\n",
       "      <td>34.34238</td>\n",
       "      <td>12.78814</td>\n",
       "      <td>Intrepid (LM-6)</td>\n",
       "      <td>15235</td>\n",
       "      <td>132.0</td>\n",
       "      <td>Yankee Clipper (CM-108)</td>\n",
       "      <td>5609</td>\n",
       "      <td>52.0</td>\n",
       "      <td>20844</td>\n",
       "      <td>184.0</td>\n",
       "    </tr>\n",
       "    <tr>\n",
       "      <th>2</th>\n",
       "      <td>Apollo14</td>\n",
       "      <td>41.83363</td>\n",
       "      <td>7.49125</td>\n",
       "      <td>Antares (LM-8)</td>\n",
       "      <td>15264</td>\n",
       "      <td>29.0</td>\n",
       "      <td>Kitty Hawk (CM-110)</td>\n",
       "      <td>5758</td>\n",
       "      <td>149.0</td>\n",
       "      <td>21022</td>\n",
       "      <td>178.0</td>\n",
       "    </tr>\n",
       "    <tr>\n",
       "      <th>3</th>\n",
       "      <td>Apollo15</td>\n",
       "      <td>75.39910</td>\n",
       "      <td>33.56547</td>\n",
       "      <td>Falcon (LM-10)</td>\n",
       "      <td>16430</td>\n",
       "      <td>1166.0</td>\n",
       "      <td>Endeavor (CM-112)</td>\n",
       "      <td>5875</td>\n",
       "      <td>117.0</td>\n",
       "      <td>22305</td>\n",
       "      <td>1283.0</td>\n",
       "    </tr>\n",
       "    <tr>\n",
       "      <th>4</th>\n",
       "      <td>Apollo16</td>\n",
       "      <td>92.46262</td>\n",
       "      <td>17.06352</td>\n",
       "      <td>Orion (LM-11)</td>\n",
       "      <td>16445</td>\n",
       "      <td>15.0</td>\n",
       "      <td>Casper (CM-113)</td>\n",
       "      <td>5840</td>\n",
       "      <td>-35.0</td>\n",
       "      <td>22285</td>\n",
       "      <td>-20.0</td>\n",
       "    </tr>\n",
       "    <tr>\n",
       "      <th>5</th>\n",
       "      <td>Apollo17</td>\n",
       "      <td>109.44402</td>\n",
       "      <td>16.98140</td>\n",
       "      <td>Challenger (LM-12)</td>\n",
       "      <td>16456</td>\n",
       "      <td>11.0</td>\n",
       "      <td>America (CM-114)</td>\n",
       "      <td>5960</td>\n",
       "      <td>120.0</td>\n",
       "      <td>22416</td>\n",
       "      <td>131.0</td>\n",
       "    </tr>\n",
       "  </tbody>\n",
       "</table>\n",
       "</div>"
      ],
      "text/plain": [
       "    Mission  Sample weight (kg)  Weight diff   Lunar module (LM)  \\\n",
       "0  Apollo11            21.55424      0.00000        Eagle (LM-5)   \n",
       "1  Apollo12            34.34238     12.78814     Intrepid (LM-6)   \n",
       "2  Apollo14            41.83363      7.49125      Antares (LM-8)   \n",
       "3  Apollo15            75.39910     33.56547      Falcon (LM-10)   \n",
       "4  Apollo16            92.46262     17.06352       Orion (LM-11)   \n",
       "5  Apollo17           109.44402     16.98140  Challenger (LM-12)   \n",
       "\n",
       "   LM mass (kg)  LM mass diff      Command module (CM)  CM mass (kg)  \\\n",
       "0         15103           0.0       Columbia (CSM-107)          5557   \n",
       "1         15235         132.0  Yankee Clipper (CM-108)          5609   \n",
       "2         15264          29.0      Kitty Hawk (CM-110)          5758   \n",
       "3         16430        1166.0        Endeavor (CM-112)          5875   \n",
       "4         16445          15.0          Casper (CM-113)          5840   \n",
       "5         16456          11.0         America (CM-114)          5960   \n",
       "\n",
       "   CM mass diff  Total weight (kg)  Total weight diff  \n",
       "0           0.0              20660                0.0  \n",
       "1          52.0              20844              184.0  \n",
       "2         149.0              21022              178.0  \n",
       "3         117.0              22305             1283.0  \n",
       "4         -35.0              22285              -20.0  \n",
       "5         120.0              22416              131.0  "
      ]
     },
     "execution_count": 13,
     "metadata": {},
     "output_type": "execute_result"
    }
   ],
   "source": [
    "missions['Total weight (kg)'] = missions['LM mass (kg)'] + missions['CM mass (kg)']\n",
    "missions['Total weight diff'] = missions['LM mass diff'] + missions['CM mass diff']\n",
    "missions"
   ]
  },
  {
   "cell_type": "markdown",
   "metadata": {},
   "source": [
    "Picture of each of the six Apollo missions that landed on the Moon. This picture contains information about the samples that each mission collected and the weights of each lunar and command module."
   ]
  },
  {
   "cell_type": "markdown",
   "metadata": {},
   "source": [
    "# Compare the data\n",
    "The interesting thing about predicting how much sample each Artemis mission can bring back is that we don't yet know the full specs of the spacecraft that the Artemis plans on using. Using some information from the NASA Factsheet on the Space Launch System (SLS) and Orion Modules (https://www.nasa.gov/sites/default/files/atoms/files/0080_sls_fact_sheet_sept2020_09082020_final_0.pdf), we have data on weights and payloads.\n",
    "\n",
    "Read about payload here : https://en.wikipedia.org/wiki/Payload\n",
    "\n",
    "We know that the Saturn V payload was 48,500 kg, and the weights of the modules varied from mission to mission. So, to determine the ratios that will allow us to make predictions about the Artemis missions, we can use:\n",
    "\n",
    "- Saturn V payload\n",
    "- Mission sample weight\n",
    "- Mission module weight"
   ]
  },
  {
   "cell_type": "code",
   "execution_count": 14,
   "metadata": {},
   "outputs": [
    {
     "data": {
      "text/html": [
       "<div>\n",
       "<style scoped>\n",
       "    .dataframe tbody tr th:only-of-type {\n",
       "        vertical-align: middle;\n",
       "    }\n",
       "\n",
       "    .dataframe tbody tr th {\n",
       "        vertical-align: top;\n",
       "    }\n",
       "\n",
       "    .dataframe thead th {\n",
       "        text-align: right;\n",
       "    }\n",
       "</style>\n",
       "<table border=\"1\" class=\"dataframe\">\n",
       "  <thead>\n",
       "    <tr style=\"text-align: right;\">\n",
       "      <th></th>\n",
       "      <th>Mission</th>\n",
       "      <th>Sample weight (kg)</th>\n",
       "      <th>Weight diff</th>\n",
       "      <th>Lunar module (LM)</th>\n",
       "      <th>LM mass (kg)</th>\n",
       "      <th>LM mass diff</th>\n",
       "      <th>Command module (CM)</th>\n",
       "      <th>CM mass (kg)</th>\n",
       "      <th>CM mass diff</th>\n",
       "      <th>Total weight (kg)</th>\n",
       "      <th>Total weight diff</th>\n",
       "      <th>Crewed area : Payload</th>\n",
       "      <th>Sample : Crewed area</th>\n",
       "      <th>Sample : Payload</th>\n",
       "    </tr>\n",
       "  </thead>\n",
       "  <tbody>\n",
       "    <tr>\n",
       "      <th>0</th>\n",
       "      <td>Apollo11</td>\n",
       "      <td>21.55424</td>\n",
       "      <td>0.00000</td>\n",
       "      <td>Eagle (LM-5)</td>\n",
       "      <td>15103</td>\n",
       "      <td>0.0</td>\n",
       "      <td>Columbia (CSM-107)</td>\n",
       "      <td>5557</td>\n",
       "      <td>0.0</td>\n",
       "      <td>20660</td>\n",
       "      <td>0.0</td>\n",
       "      <td>0.425979</td>\n",
       "      <td>0.001043</td>\n",
       "      <td>0.000444</td>\n",
       "    </tr>\n",
       "    <tr>\n",
       "      <th>1</th>\n",
       "      <td>Apollo12</td>\n",
       "      <td>34.34238</td>\n",
       "      <td>12.78814</td>\n",
       "      <td>Intrepid (LM-6)</td>\n",
       "      <td>15235</td>\n",
       "      <td>132.0</td>\n",
       "      <td>Yankee Clipper (CM-108)</td>\n",
       "      <td>5609</td>\n",
       "      <td>52.0</td>\n",
       "      <td>20844</td>\n",
       "      <td>184.0</td>\n",
       "      <td>0.429773</td>\n",
       "      <td>0.001648</td>\n",
       "      <td>0.000708</td>\n",
       "    </tr>\n",
       "    <tr>\n",
       "      <th>2</th>\n",
       "      <td>Apollo14</td>\n",
       "      <td>41.83363</td>\n",
       "      <td>7.49125</td>\n",
       "      <td>Antares (LM-8)</td>\n",
       "      <td>15264</td>\n",
       "      <td>29.0</td>\n",
       "      <td>Kitty Hawk (CM-110)</td>\n",
       "      <td>5758</td>\n",
       "      <td>149.0</td>\n",
       "      <td>21022</td>\n",
       "      <td>178.0</td>\n",
       "      <td>0.433443</td>\n",
       "      <td>0.001990</td>\n",
       "      <td>0.000863</td>\n",
       "    </tr>\n",
       "    <tr>\n",
       "      <th>3</th>\n",
       "      <td>Apollo15</td>\n",
       "      <td>75.39910</td>\n",
       "      <td>33.56547</td>\n",
       "      <td>Falcon (LM-10)</td>\n",
       "      <td>16430</td>\n",
       "      <td>1166.0</td>\n",
       "      <td>Endeavor (CM-112)</td>\n",
       "      <td>5875</td>\n",
       "      <td>117.0</td>\n",
       "      <td>22305</td>\n",
       "      <td>1283.0</td>\n",
       "      <td>0.459897</td>\n",
       "      <td>0.003380</td>\n",
       "      <td>0.001555</td>\n",
       "    </tr>\n",
       "    <tr>\n",
       "      <th>4</th>\n",
       "      <td>Apollo16</td>\n",
       "      <td>92.46262</td>\n",
       "      <td>17.06352</td>\n",
       "      <td>Orion (LM-11)</td>\n",
       "      <td>16445</td>\n",
       "      <td>15.0</td>\n",
       "      <td>Casper (CM-113)</td>\n",
       "      <td>5840</td>\n",
       "      <td>-35.0</td>\n",
       "      <td>22285</td>\n",
       "      <td>-20.0</td>\n",
       "      <td>0.459485</td>\n",
       "      <td>0.004149</td>\n",
       "      <td>0.001906</td>\n",
       "    </tr>\n",
       "    <tr>\n",
       "      <th>5</th>\n",
       "      <td>Apollo17</td>\n",
       "      <td>109.44402</td>\n",
       "      <td>16.98140</td>\n",
       "      <td>Challenger (LM-12)</td>\n",
       "      <td>16456</td>\n",
       "      <td>11.0</td>\n",
       "      <td>America (CM-114)</td>\n",
       "      <td>5960</td>\n",
       "      <td>120.0</td>\n",
       "      <td>22416</td>\n",
       "      <td>131.0</td>\n",
       "      <td>0.462186</td>\n",
       "      <td>0.004882</td>\n",
       "      <td>0.002257</td>\n",
       "    </tr>\n",
       "  </tbody>\n",
       "</table>\n",
       "</div>"
      ],
      "text/plain": [
       "    Mission  Sample weight (kg)  Weight diff   Lunar module (LM)  \\\n",
       "0  Apollo11            21.55424      0.00000        Eagle (LM-5)   \n",
       "1  Apollo12            34.34238     12.78814     Intrepid (LM-6)   \n",
       "2  Apollo14            41.83363      7.49125      Antares (LM-8)   \n",
       "3  Apollo15            75.39910     33.56547      Falcon (LM-10)   \n",
       "4  Apollo16            92.46262     17.06352       Orion (LM-11)   \n",
       "5  Apollo17           109.44402     16.98140  Challenger (LM-12)   \n",
       "\n",
       "   LM mass (kg)  LM mass diff      Command module (CM)  CM mass (kg)  \\\n",
       "0         15103           0.0       Columbia (CSM-107)          5557   \n",
       "1         15235         132.0  Yankee Clipper (CM-108)          5609   \n",
       "2         15264          29.0      Kitty Hawk (CM-110)          5758   \n",
       "3         16430        1166.0        Endeavor (CM-112)          5875   \n",
       "4         16445          15.0          Casper (CM-113)          5840   \n",
       "5         16456          11.0         America (CM-114)          5960   \n",
       "\n",
       "   CM mass diff  Total weight (kg)  Total weight diff  Crewed area : Payload  \\\n",
       "0           0.0              20660                0.0               0.425979   \n",
       "1          52.0              20844              184.0               0.429773   \n",
       "2         149.0              21022              178.0               0.433443   \n",
       "3         117.0              22305             1283.0               0.459897   \n",
       "4         -35.0              22285              -20.0               0.459485   \n",
       "5         120.0              22416              131.0               0.462186   \n",
       "\n",
       "   Sample : Crewed area  Sample : Payload  \n",
       "0              0.001043          0.000444  \n",
       "1              0.001648          0.000708  \n",
       "2              0.001990          0.000863  \n",
       "3              0.003380          0.001555  \n",
       "4              0.004149          0.001906  \n",
       "5              0.004882          0.002257  "
      ]
     },
     "execution_count": 14,
     "metadata": {},
     "output_type": "execute_result"
    }
   ],
   "source": [
    "# Sample-to-weight ratio\n",
    "saturnVPayload = 48500\n",
    "missions['Crewed area : Payload'] = missions['Total weight (kg)'] / saturnVPayload\n",
    "missions['Sample : Crewed area'] = missions['Sample weight (kg)'] / missions['Total weight (kg)']\n",
    "missions['Sample : Payload'] = missions['Sample weight (kg)'] / saturnVPayload\n",
    "missions"
   ]
  },
  {
   "cell_type": "markdown",
   "metadata": {},
   "source": [
    "# Save the ratios\n",
    "Using the mean() function to take the average of all those ratios across all the missions."
   ]
  },
  {
   "cell_type": "code",
   "execution_count": 15,
   "metadata": {},
   "outputs": [
    {
     "name": "stdout",
     "output_type": "stream",
     "text": [
      "0.445127147766323\n",
      "0.0028487896378978235\n",
      "0.0012887834707903782\n"
     ]
    }
   ],
   "source": [
    "crewedArea_payload_ratio = missions['Crewed area : Payload'].mean()\n",
    "sample_crewedArea_ratio = missions['Sample : Crewed area'].mean()\n",
    "sample_payload_ratio = missions['Sample : Payload'].mean()\n",
    "print(crewedArea_payload_ratio)\n",
    "print(sample_crewedArea_ratio)\n",
    "print(sample_payload_ratio)"
   ]
  },
  {
   "cell_type": "markdown",
   "metadata": {},
   "source": [
    "# Predict Artemis sample capacity\n",
    "\n",
    "By using the NASA Factsheet on the Space Launch System (SLS) and Orion Modules (https://www.nasa.gov/sites/default/files/atoms/files/0080_sls_fact_sheet_sept2020_09082020_final_0.pdf) to gather estimated data on the rockets and modules that will be used in the Artemis program.\n",
    "\n",
    "As a reminder, the Artemis program (https://www.nasa.gov/specials/artemis/) is NASA's second set of missions to land humans on the surface of the Moon. The program will launch in 2024 and will send not only the next pair of humans, but also the first woman to set foot on the Moon. The preparation for this mission is even bigger than focusing on a Moon landing. It will also provide space for a commercial payload on the ship and is the first step along the Moon to Mars program (https://www.nasa.gov/topics/moon-to-mars/). So, while the Artemis missions will likely bring home additional samples, there are other goals that might affect the amount of capacity that's required to do so.\n",
    "\n"
   ]
  },
  {
   "cell_type": "markdown",
   "metadata": {},
   "source": [
    "# An Artemis mission DataFrame\n",
    "Don't have all the details about the Artemis mission, but do know currently that three iterations of the rocket will be cycled through for each mission. Each rocket will have one version meant to sustain a crew and one meant only for cargo. For the purposes of this module, focus only on the three rockets meant to house crew, to be more aligned with the Apollo missions. We also know that the expected payload of the Space Launch System (SLS) is expected to grow with each iteration, but that the current weight of Orion (the command and lunar modules combined) has one estimated weight today.\n",
    "\n",
    "Again, we will call the command and lunar modules the crewed area, and we can create a DataFrame with the information we have about the three crewed missions:"
   ]
  },
  {
   "cell_type": "code",
   "execution_count": 16,
   "metadata": {},
   "outputs": [
    {
     "data": {
      "text/html": [
       "<div>\n",
       "<style scoped>\n",
       "    .dataframe tbody tr th:only-of-type {\n",
       "        vertical-align: middle;\n",
       "    }\n",
       "\n",
       "    .dataframe tbody tr th {\n",
       "        vertical-align: top;\n",
       "    }\n",
       "\n",
       "    .dataframe thead th {\n",
       "        text-align: right;\n",
       "    }\n",
       "</style>\n",
       "<table border=\"1\" class=\"dataframe\">\n",
       "  <thead>\n",
       "    <tr style=\"text-align: right;\">\n",
       "      <th></th>\n",
       "      <th>Mission</th>\n",
       "      <th>Total weight (kg)</th>\n",
       "      <th>Payload (kg)</th>\n",
       "    </tr>\n",
       "  </thead>\n",
       "  <tbody>\n",
       "    <tr>\n",
       "      <th>0</th>\n",
       "      <td>artemis1</td>\n",
       "      <td>26520</td>\n",
       "      <td>26988</td>\n",
       "    </tr>\n",
       "    <tr>\n",
       "      <th>1</th>\n",
       "      <td>artemis1b</td>\n",
       "      <td>26520</td>\n",
       "      <td>37965</td>\n",
       "    </tr>\n",
       "    <tr>\n",
       "      <th>2</th>\n",
       "      <td>artemis2</td>\n",
       "      <td>26520</td>\n",
       "      <td>42955</td>\n",
       "    </tr>\n",
       "  </tbody>\n",
       "</table>\n",
       "</div>"
      ],
      "text/plain": [
       "     Mission  Total weight (kg)  Payload (kg)\n",
       "0   artemis1              26520         26988\n",
       "1  artemis1b              26520         37965\n",
       "2   artemis2              26520         42955"
      ]
     },
     "execution_count": 16,
     "metadata": {},
     "output_type": "execute_result"
    }
   ],
   "source": [
    "artemis_crewedArea = 26520\n",
    "artemis_mission = pd.DataFrame({'Mission':['artemis1','artemis1b','artemis2'],\n",
    "                                 'Total weight (kg)':[artemis_crewedArea,artemis_crewedArea,artemis_crewedArea],\n",
    "                                 'Payload (kg)':[26988, 37965, 42955]})\n",
    "artemis_mission"
   ]
  },
  {
   "cell_type": "markdown",
   "metadata": {},
   "source": [
    "Estimating the weight of samples based on the ratios we determined from the Artemis missions:"
   ]
  },
  {
   "cell_type": "code",
   "execution_count": 17,
   "metadata": {},
   "outputs": [
    {
     "data": {
      "text/html": [
       "<div>\n",
       "<style scoped>\n",
       "    .dataframe tbody tr th:only-of-type {\n",
       "        vertical-align: middle;\n",
       "    }\n",
       "\n",
       "    .dataframe tbody tr th {\n",
       "        vertical-align: top;\n",
       "    }\n",
       "\n",
       "    .dataframe thead th {\n",
       "        text-align: right;\n",
       "    }\n",
       "</style>\n",
       "<table border=\"1\" class=\"dataframe\">\n",
       "  <thead>\n",
       "    <tr style=\"text-align: right;\">\n",
       "      <th></th>\n",
       "      <th>Mission</th>\n",
       "      <th>Total weight (kg)</th>\n",
       "      <th>Payload (kg)</th>\n",
       "      <th>Sample weight from total (kg)</th>\n",
       "      <th>Sample weight from payload (kg)</th>\n",
       "    </tr>\n",
       "  </thead>\n",
       "  <tbody>\n",
       "    <tr>\n",
       "      <th>0</th>\n",
       "      <td>artemis1</td>\n",
       "      <td>26520</td>\n",
       "      <td>26988</td>\n",
       "      <td>75.549901</td>\n",
       "      <td>34.781688</td>\n",
       "    </tr>\n",
       "    <tr>\n",
       "      <th>1</th>\n",
       "      <td>artemis1b</td>\n",
       "      <td>26520</td>\n",
       "      <td>37965</td>\n",
       "      <td>75.549901</td>\n",
       "      <td>48.928664</td>\n",
       "    </tr>\n",
       "    <tr>\n",
       "      <th>2</th>\n",
       "      <td>artemis2</td>\n",
       "      <td>26520</td>\n",
       "      <td>42955</td>\n",
       "      <td>75.549901</td>\n",
       "      <td>55.359694</td>\n",
       "    </tr>\n",
       "  </tbody>\n",
       "</table>\n",
       "</div>"
      ],
      "text/plain": [
       "     Mission  Total weight (kg)  Payload (kg)  Sample weight from total (kg)  \\\n",
       "0   artemis1              26520         26988                      75.549901   \n",
       "1  artemis1b              26520         37965                      75.549901   \n",
       "2   artemis2              26520         42955                      75.549901   \n",
       "\n",
       "   Sample weight from payload (kg)  \n",
       "0                        34.781688  \n",
       "1                        48.928664  \n",
       "2                        55.359694  "
      ]
     },
     "execution_count": 17,
     "metadata": {},
     "output_type": "execute_result"
    }
   ],
   "source": [
    "artemis_mission['Sample weight from total (kg)'] = artemis_mission['Total weight (kg)'] * sample_crewedArea_ratio\n",
    "artemis_mission['Sample weight from payload (kg)'] = artemis_mission['Payload (kg)'] * sample_payload_ratio\n",
    "artemis_mission"
   ]
  },
  {
   "cell_type": "markdown",
   "metadata": {},
   "source": [
    "The average of the two predictions:"
   ]
  },
  {
   "cell_type": "code",
   "execution_count": 18,
   "metadata": {},
   "outputs": [
    {
     "data": {
      "text/html": [
       "<div>\n",
       "<style scoped>\n",
       "    .dataframe tbody tr th:only-of-type {\n",
       "        vertical-align: middle;\n",
       "    }\n",
       "\n",
       "    .dataframe tbody tr th {\n",
       "        vertical-align: top;\n",
       "    }\n",
       "\n",
       "    .dataframe thead th {\n",
       "        text-align: right;\n",
       "    }\n",
       "</style>\n",
       "<table border=\"1\" class=\"dataframe\">\n",
       "  <thead>\n",
       "    <tr style=\"text-align: right;\">\n",
       "      <th></th>\n",
       "      <th>Mission</th>\n",
       "      <th>Total weight (kg)</th>\n",
       "      <th>Payload (kg)</th>\n",
       "      <th>Sample weight from total (kg)</th>\n",
       "      <th>Sample weight from payload (kg)</th>\n",
       "      <th>Estimated sample weight (kg)</th>\n",
       "    </tr>\n",
       "  </thead>\n",
       "  <tbody>\n",
       "    <tr>\n",
       "      <th>0</th>\n",
       "      <td>artemis1</td>\n",
       "      <td>26520</td>\n",
       "      <td>26988</td>\n",
       "      <td>75.549901</td>\n",
       "      <td>34.781688</td>\n",
       "      <td>55.165795</td>\n",
       "    </tr>\n",
       "    <tr>\n",
       "      <th>1</th>\n",
       "      <td>artemis1b</td>\n",
       "      <td>26520</td>\n",
       "      <td>37965</td>\n",
       "      <td>75.549901</td>\n",
       "      <td>48.928664</td>\n",
       "      <td>62.239283</td>\n",
       "    </tr>\n",
       "    <tr>\n",
       "      <th>2</th>\n",
       "      <td>artemis2</td>\n",
       "      <td>26520</td>\n",
       "      <td>42955</td>\n",
       "      <td>75.549901</td>\n",
       "      <td>55.359694</td>\n",
       "      <td>65.454798</td>\n",
       "    </tr>\n",
       "  </tbody>\n",
       "</table>\n",
       "</div>"
      ],
      "text/plain": [
       "     Mission  Total weight (kg)  Payload (kg)  Sample weight from total (kg)  \\\n",
       "0   artemis1              26520         26988                      75.549901   \n",
       "1  artemis1b              26520         37965                      75.549901   \n",
       "2   artemis2              26520         42955                      75.549901   \n",
       "\n",
       "   Sample weight from payload (kg)  Estimated sample weight (kg)  \n",
       "0                        34.781688                     55.165795  \n",
       "1                        48.928664                     62.239283  \n",
       "2                        55.359694                     65.454798  "
      ]
     },
     "execution_count": 18,
     "metadata": {},
     "output_type": "execute_result"
    }
   ],
   "source": [
    "artemis_mission['Estimated sample weight (kg)'] = (artemis_mission['Sample weight from payload (kg)'] + artemis_mission['Sample weight from total (kg)'])/2\n",
    "artemis_mission"
   ]
  },
  {
   "cell_type": "markdown",
   "metadata": {},
   "source": [
    "We can see now that the three Artemis missions can likely return 55.16 kg, 62.23 kg, and 65.45 kg, respectively."
   ]
  },
  {
   "cell_type": "markdown",
   "metadata": {},
   "source": [
    "# Prioritizing Moon rock sample gathering based on data\n",
    "\n",
    "Determining which types of samples to collect from the Moon requires expertise, making some assumptions to learn how to clean and manipulate data.\n",
    "\n",
    "Determining how much remains of each sample that was returned from the Apollo missions, given the amount that was originally collected and the percentage of remaining pristine sample.\n",
    "\n",
    "- Multipling the Pristine (%) column by 0.01, because it was being represented as a whole number."
   ]
  },
  {
   "cell_type": "code",
   "execution_count": 19,
   "metadata": {},
   "outputs": [
    {
     "data": {
      "text/html": [
       "<div>\n",
       "<style scoped>\n",
       "    .dataframe tbody tr th:only-of-type {\n",
       "        vertical-align: middle;\n",
       "    }\n",
       "\n",
       "    .dataframe tbody tr th {\n",
       "        vertical-align: top;\n",
       "    }\n",
       "\n",
       "    .dataframe thead th {\n",
       "        text-align: right;\n",
       "    }\n",
       "</style>\n",
       "<table border=\"1\" class=\"dataframe\">\n",
       "  <thead>\n",
       "    <tr style=\"text-align: right;\">\n",
       "      <th></th>\n",
       "      <th>ID</th>\n",
       "      <th>Mission</th>\n",
       "      <th>Type</th>\n",
       "      <th>Subtype</th>\n",
       "      <th>Weight (kg)</th>\n",
       "      <th>Pristine (%)</th>\n",
       "      <th>Remaining (kg)</th>\n",
       "    </tr>\n",
       "  </thead>\n",
       "  <tbody>\n",
       "    <tr>\n",
       "      <th>0</th>\n",
       "      <td>10001</td>\n",
       "      <td>Apollo11</td>\n",
       "      <td>Soil</td>\n",
       "      <td>Unsieved</td>\n",
       "      <td>0.1258</td>\n",
       "      <td>88.36</td>\n",
       "      <td>0.111157</td>\n",
       "    </tr>\n",
       "    <tr>\n",
       "      <th>1</th>\n",
       "      <td>10002</td>\n",
       "      <td>Apollo11</td>\n",
       "      <td>Soil</td>\n",
       "      <td>Unsieved</td>\n",
       "      <td>5.6290</td>\n",
       "      <td>93.73</td>\n",
       "      <td>5.276062</td>\n",
       "    </tr>\n",
       "    <tr>\n",
       "      <th>2</th>\n",
       "      <td>10003</td>\n",
       "      <td>Apollo11</td>\n",
       "      <td>Basalt</td>\n",
       "      <td>Ilmenite</td>\n",
       "      <td>0.2130</td>\n",
       "      <td>65.56</td>\n",
       "      <td>0.139643</td>\n",
       "    </tr>\n",
       "    <tr>\n",
       "      <th>3</th>\n",
       "      <td>10004</td>\n",
       "      <td>Apollo11</td>\n",
       "      <td>Core</td>\n",
       "      <td>Unsieved</td>\n",
       "      <td>0.0448</td>\n",
       "      <td>71.76</td>\n",
       "      <td>0.032148</td>\n",
       "    </tr>\n",
       "    <tr>\n",
       "      <th>4</th>\n",
       "      <td>10005</td>\n",
       "      <td>Apollo11</td>\n",
       "      <td>Core</td>\n",
       "      <td>Unsieved</td>\n",
       "      <td>0.0534</td>\n",
       "      <td>40.31</td>\n",
       "      <td>0.021526</td>\n",
       "    </tr>\n",
       "  </tbody>\n",
       "</table>\n",
       "</div>"
      ],
      "text/plain": [
       "      ID   Mission    Type   Subtype  Weight (kg)  Pristine (%)  \\\n",
       "0  10001  Apollo11    Soil  Unsieved       0.1258         88.36   \n",
       "1  10002  Apollo11    Soil  Unsieved       5.6290         93.73   \n",
       "2  10003  Apollo11  Basalt  Ilmenite       0.2130         65.56   \n",
       "3  10004  Apollo11    Core  Unsieved       0.0448         71.76   \n",
       "4  10005  Apollo11    Core  Unsieved       0.0534         40.31   \n",
       "\n",
       "   Remaining (kg)  \n",
       "0        0.111157  \n",
       "1        5.276062  \n",
       "2        0.139643  \n",
       "3        0.032148  \n",
       "4        0.021526  "
      ]
     },
     "execution_count": 19,
     "metadata": {},
     "output_type": "execute_result"
    }
   ],
   "source": [
    "rock_samples['Remaining (kg)'] = rock_samples['Weight (kg)'] * (rock_samples['Pristine (%)'] * .01)\n",
    "rock_samples.head()"
   ]
  },
  {
   "cell_type": "code",
   "execution_count": 20,
   "metadata": {},
   "outputs": [
    {
     "data": {
      "text/html": [
       "<div>\n",
       "<style scoped>\n",
       "    .dataframe tbody tr th:only-of-type {\n",
       "        vertical-align: middle;\n",
       "    }\n",
       "\n",
       "    .dataframe tbody tr th {\n",
       "        vertical-align: top;\n",
       "    }\n",
       "\n",
       "    .dataframe thead th {\n",
       "        text-align: right;\n",
       "    }\n",
       "</style>\n",
       "<table border=\"1\" class=\"dataframe\">\n",
       "  <thead>\n",
       "    <tr style=\"text-align: right;\">\n",
       "      <th></th>\n",
       "      <th>ID</th>\n",
       "      <th>Weight (kg)</th>\n",
       "      <th>Pristine (%)</th>\n",
       "      <th>Remaining (kg)</th>\n",
       "    </tr>\n",
       "  </thead>\n",
       "  <tbody>\n",
       "    <tr>\n",
       "      <th>count</th>\n",
       "      <td>2229.000000</td>\n",
       "      <td>2229.000000</td>\n",
       "      <td>2229.000000</td>\n",
       "      <td>2229.000000</td>\n",
       "    </tr>\n",
       "    <tr>\n",
       "      <th>mean</th>\n",
       "      <td>52058.432032</td>\n",
       "      <td>0.168253</td>\n",
       "      <td>84.512764</td>\n",
       "      <td>0.138103</td>\n",
       "    </tr>\n",
       "    <tr>\n",
       "      <th>std</th>\n",
       "      <td>26207.651471</td>\n",
       "      <td>0.637286</td>\n",
       "      <td>22.057299</td>\n",
       "      <td>0.525954</td>\n",
       "    </tr>\n",
       "    <tr>\n",
       "      <th>min</th>\n",
       "      <td>10001.000000</td>\n",
       "      <td>0.000000</td>\n",
       "      <td>0.000000</td>\n",
       "      <td>0.000000</td>\n",
       "    </tr>\n",
       "    <tr>\n",
       "      <th>25%</th>\n",
       "      <td>15437.000000</td>\n",
       "      <td>0.003000</td>\n",
       "      <td>80.010000</td>\n",
       "      <td>0.002432</td>\n",
       "    </tr>\n",
       "    <tr>\n",
       "      <th>50%</th>\n",
       "      <td>65527.000000</td>\n",
       "      <td>0.010200</td>\n",
       "      <td>92.300000</td>\n",
       "      <td>0.008530</td>\n",
       "    </tr>\n",
       "    <tr>\n",
       "      <th>75%</th>\n",
       "      <td>72142.000000</td>\n",
       "      <td>0.093490</td>\n",
       "      <td>98.140000</td>\n",
       "      <td>0.078240</td>\n",
       "    </tr>\n",
       "    <tr>\n",
       "      <th>max</th>\n",
       "      <td>79537.000000</td>\n",
       "      <td>11.729000</td>\n",
       "      <td>180.000000</td>\n",
       "      <td>11.169527</td>\n",
       "    </tr>\n",
       "  </tbody>\n",
       "</table>\n",
       "</div>"
      ],
      "text/plain": [
       "                 ID  Weight (kg)  Pristine (%)  Remaining (kg)\n",
       "count   2229.000000  2229.000000   2229.000000     2229.000000\n",
       "mean   52058.432032     0.168253     84.512764        0.138103\n",
       "std    26207.651471     0.637286     22.057299        0.525954\n",
       "min    10001.000000     0.000000      0.000000        0.000000\n",
       "25%    15437.000000     0.003000     80.010000        0.002432\n",
       "50%    65527.000000     0.010200     92.300000        0.008530\n",
       "75%    72142.000000     0.093490     98.140000        0.078240\n",
       "max    79537.000000    11.729000    180.000000       11.169527"
      ]
     },
     "execution_count": 20,
     "metadata": {},
     "output_type": "execute_result"
    }
   ],
   "source": [
    "rock_samples.describe()"
   ]
  },
  {
   "cell_type": "markdown",
   "metadata": {},
   "source": [
    "On average, each sample weighs about .16 kg and has about 84% of the original amount remaining. By using this knowledge to extract only the samples that are likely running low, which means that they have been used a lot by researchers."
   ]
  },
  {
   "cell_type": "code",
   "execution_count": 21,
   "metadata": {},
   "outputs": [
    {
     "data": {
      "text/html": [
       "<div>\n",
       "<style scoped>\n",
       "    .dataframe tbody tr th:only-of-type {\n",
       "        vertical-align: middle;\n",
       "    }\n",
       "\n",
       "    .dataframe tbody tr th {\n",
       "        vertical-align: top;\n",
       "    }\n",
       "\n",
       "    .dataframe thead th {\n",
       "        text-align: right;\n",
       "    }\n",
       "</style>\n",
       "<table border=\"1\" class=\"dataframe\">\n",
       "  <thead>\n",
       "    <tr style=\"text-align: right;\">\n",
       "      <th></th>\n",
       "      <th>ID</th>\n",
       "      <th>Mission</th>\n",
       "      <th>Type</th>\n",
       "      <th>Subtype</th>\n",
       "      <th>Weight (kg)</th>\n",
       "      <th>Pristine (%)</th>\n",
       "      <th>Remaining (kg)</th>\n",
       "    </tr>\n",
       "  </thead>\n",
       "  <tbody>\n",
       "    <tr>\n",
       "      <th>11</th>\n",
       "      <td>10017</td>\n",
       "      <td>Apollo11</td>\n",
       "      <td>Basalt</td>\n",
       "      <td>Ilmenite</td>\n",
       "      <td>0.973</td>\n",
       "      <td>43.71</td>\n",
       "      <td>0.425298</td>\n",
       "    </tr>\n",
       "    <tr>\n",
       "      <th>14</th>\n",
       "      <td>10020</td>\n",
       "      <td>Apollo11</td>\n",
       "      <td>Basalt</td>\n",
       "      <td>Ilmenite</td>\n",
       "      <td>0.425</td>\n",
       "      <td>27.88</td>\n",
       "      <td>0.118490</td>\n",
       "    </tr>\n",
       "    <tr>\n",
       "      <th>15</th>\n",
       "      <td>10021</td>\n",
       "      <td>Apollo11</td>\n",
       "      <td>Breccia</td>\n",
       "      <td>Regolith</td>\n",
       "      <td>0.250</td>\n",
       "      <td>30.21</td>\n",
       "      <td>0.075525</td>\n",
       "    </tr>\n",
       "    <tr>\n",
       "      <th>29</th>\n",
       "      <td>10045</td>\n",
       "      <td>Apollo11</td>\n",
       "      <td>Basalt</td>\n",
       "      <td>Olivine</td>\n",
       "      <td>0.185</td>\n",
       "      <td>12.13</td>\n",
       "      <td>0.022441</td>\n",
       "    </tr>\n",
       "    <tr>\n",
       "      <th>37</th>\n",
       "      <td>10057</td>\n",
       "      <td>Apollo11</td>\n",
       "      <td>Basalt</td>\n",
       "      <td>Ilmenite</td>\n",
       "      <td>0.919</td>\n",
       "      <td>35.15</td>\n",
       "      <td>0.323028</td>\n",
       "    </tr>\n",
       "  </tbody>\n",
       "</table>\n",
       "</div>"
      ],
      "text/plain": [
       "       ID   Mission     Type   Subtype  Weight (kg)  Pristine (%)  \\\n",
       "11  10017  Apollo11   Basalt  Ilmenite        0.973         43.71   \n",
       "14  10020  Apollo11   Basalt  Ilmenite        0.425         27.88   \n",
       "15  10021  Apollo11  Breccia  Regolith        0.250         30.21   \n",
       "29  10045  Apollo11   Basalt   Olivine        0.185         12.13   \n",
       "37  10057  Apollo11   Basalt  Ilmenite        0.919         35.15   \n",
       "\n",
       "    Remaining (kg)  \n",
       "11        0.425298  \n",
       "14        0.118490  \n",
       "15        0.075525  \n",
       "29        0.022441  \n",
       "37        0.323028  "
      ]
     },
     "execution_count": 21,
     "metadata": {},
     "output_type": "execute_result"
    }
   ],
   "source": [
    "low_samples = rock_samples.loc[(rock_samples['Weight (kg)'] >= .16) & (rock_samples['Pristine (%)'] <= 50)]\n",
    "low_samples.head()"
   ]
  },
  {
   "cell_type": "code",
   "execution_count": 22,
   "metadata": {},
   "outputs": [
    {
     "name": "stdout",
     "output_type": "stream",
     "text": [
      "<class 'pandas.core.frame.DataFrame'>\n",
      "Int64Index: 27 entries, 11 to 2183\n",
      "Data columns (total 7 columns):\n",
      " #   Column          Non-Null Count  Dtype  \n",
      "---  ------          --------------  -----  \n",
      " 0   ID              27 non-null     int64  \n",
      " 1   Mission         27 non-null     object \n",
      " 2   Type            27 non-null     object \n",
      " 3   Subtype         27 non-null     object \n",
      " 4   Weight (kg)     27 non-null     float64\n",
      " 5   Pristine (%)    27 non-null     float64\n",
      " 6   Remaining (kg)  27 non-null     float64\n",
      "dtypes: float64(3), int64(1), object(3)\n",
      "memory usage: 1.7+ KB\n"
     ]
    }
   ],
   "source": [
    "low_samples.info()"
   ]
  },
  {
   "cell_type": "markdown",
   "metadata": {},
   "source": [
    "Twenty-seven samples seem like a small amount to base a recommendation on. Probably find some other samples that are needed for more research here on Earth. To discover them, use the unique() function to see how many unique types we have across the low_samples and rock_samples DataFrames."
   ]
  },
  {
   "cell_type": "code",
   "execution_count": 23,
   "metadata": {},
   "outputs": [
    {
     "data": {
      "text/plain": [
       "array(['Basalt', 'Breccia', 'Soil', 'Core'], dtype=object)"
      ]
     },
     "execution_count": 23,
     "metadata": {},
     "output_type": "execute_result"
    }
   ],
   "source": [
    "low_samples.Type.unique()"
   ]
  },
  {
   "cell_type": "code",
   "execution_count": 24,
   "metadata": {},
   "outputs": [
    {
     "data": {
      "text/plain": [
       "array(['Soil', 'Basalt', 'Core', 'Breccia', 'Special', 'Crustal'],\n",
       "      dtype=object)"
      ]
     },
     "execution_count": 24,
     "metadata": {},
     "output_type": "execute_result"
    }
   ],
   "source": [
    "rock_samples.Type.unique()"
   ]
  },
  {
   "cell_type": "markdown",
   "metadata": {},
   "source": [
    "Although six unique types were collected across all samples, the samples that are running low are from only four unique types. But this doesn't tell us everything about the samples we might want to focus on. For example, in our low_samples DatFrame, how many of each type are considered low?"
   ]
  },
  {
   "cell_type": "code",
   "execution_count": 25,
   "metadata": {},
   "outputs": [
    {
     "data": {
      "text/plain": [
       "Type\n",
       "Basalt     14\n",
       "Breccia     8\n",
       "Core        1\n",
       "Soil        4\n",
       "Name: Weight (kg), dtype: int64"
      ]
     },
     "execution_count": 25,
     "metadata": {},
     "output_type": "execute_result"
    }
   ],
   "source": [
    "low_samples.groupby('Type')['Weight (kg)'].count()"
   ]
  },
  {
   "cell_type": "markdown",
   "metadata": {},
   "source": [
    "Notice that there are more Basalt and Breccia type rocks with low samples than those of Core and Soil. Additionally, because the likelihood is high that every mission has some Core and Soil collection requirements, focusing on the Basalt and Breccia rock types for the samples that we need to have collected:"
   ]
  },
  {
   "cell_type": "code",
   "execution_count": 26,
   "metadata": {},
   "outputs": [
    {
     "name": "stdout",
     "output_type": "stream",
     "text": [
      "<class 'pandas.core.frame.DataFrame'>\n",
      "Int64Index: 22 entries, 11 to 2183\n",
      "Data columns (total 7 columns):\n",
      " #   Column          Non-Null Count  Dtype  \n",
      "---  ------          --------------  -----  \n",
      " 0   ID              22 non-null     int64  \n",
      " 1   Mission         22 non-null     object \n",
      " 2   Type            22 non-null     object \n",
      " 3   Subtype         22 non-null     object \n",
      " 4   Weight (kg)     22 non-null     float64\n",
      " 5   Pristine (%)    22 non-null     float64\n",
      " 6   Remaining (kg)  22 non-null     float64\n",
      "dtypes: float64(3), int64(1), object(3)\n",
      "memory usage: 1.4+ KB\n"
     ]
    }
   ],
   "source": [
    "needed_samples = low_samples[low_samples['Type'].isin(['Basalt', 'Breccia'])]\n",
    "needed_samples.info()"
   ]
  },
  {
   "cell_type": "markdown",
   "metadata": {},
   "source": [
    "But are Basalt and Breccia the only two types of rocks we want to look for?"
   ]
  },
  {
   "cell_type": "markdown",
   "metadata": {},
   "source": [
    "# Developing a recommendation of Moon rock samples to be collected\n",
    "Let's take a step back and see how the number of samples compares to the amount of sample. By comparing the total weight from the needed_samples DataFrame to the rock_samples DataFrame. That is, we'll compare the samples we've identified as running low to all the samples collected on Apollo missions."
   ]
  },
  {
   "cell_type": "code",
   "execution_count": 27,
   "metadata": {},
   "outputs": [
    {
     "data": {
      "text/plain": [
       "Type\n",
       "Basalt     17.4234\n",
       "Breccia    10.1185\n",
       "Name: Weight (kg), dtype: float64"
      ]
     },
     "execution_count": 27,
     "metadata": {},
     "output_type": "execute_result"
    }
   ],
   "source": [
    "needed_samples.groupby('Type')['Weight (kg)'].sum()"
   ]
  },
  {
   "cell_type": "code",
   "execution_count": 28,
   "metadata": {},
   "outputs": [
    {
     "data": {
      "text/plain": [
       "Type\n",
       "Basalt      93.14077\n",
       "Breccia    168.88075\n",
       "Core        19.93587\n",
       "Crustal      4.74469\n",
       "Soil        87.58981\n",
       "Special      0.74410\n",
       "Name: Weight (kg), dtype: float64"
      ]
     },
     "execution_count": 28,
     "metadata": {},
     "output_type": "execute_result"
    }
   ],
   "source": [
    "rock_samples.groupby('Type')['Weight (kg)'].sum()"
   ]
  },
  {
   "cell_type": "markdown",
   "metadata": {},
   "source": [
    "One bit of information really stands out: we've never had a lot of Crustal rocks in the first place.\n",
    "\n",
    "We can add Crustal rocks to the set of needed samples:"
   ]
  },
  {
   "cell_type": "code",
   "execution_count": 29,
   "metadata": {},
   "outputs": [
    {
     "name": "stdout",
     "output_type": "stream",
     "text": [
      "<class 'pandas.core.frame.DataFrame'>\n",
      "Int64Index: 68 entries, 11 to 2189\n",
      "Data columns (total 7 columns):\n",
      " #   Column          Non-Null Count  Dtype  \n",
      "---  ------          --------------  -----  \n",
      " 0   ID              68 non-null     int64  \n",
      " 1   Mission         68 non-null     object \n",
      " 2   Type            68 non-null     object \n",
      " 3   Subtype         68 non-null     object \n",
      " 4   Weight (kg)     68 non-null     float64\n",
      " 5   Pristine (%)    68 non-null     float64\n",
      " 6   Remaining (kg)  68 non-null     float64\n",
      "dtypes: float64(3), int64(1), object(3)\n",
      "memory usage: 4.2+ KB\n"
     ]
    },
    {
     "name": "stderr",
     "output_type": "stream",
     "text": [
      "C:\\Users\\tiwar\\AppData\\Local\\Temp\\ipykernel_18088\\3156432320.py:1: FutureWarning: The frame.append method is deprecated and will be removed from pandas in a future version. Use pandas.concat instead.\n",
      "  needed_samples = needed_samples.append(rock_samples.loc[rock_samples['Type'] == 'Crustal'])\n"
     ]
    }
   ],
   "source": [
    "needed_samples = needed_samples.append(rock_samples.loc[rock_samples['Type'] == 'Crustal'])\n",
    "needed_samples.info()"
   ]
  },
  {
   "cell_type": "markdown",
   "metadata": {},
   "source": [
    "# Summary of needed samples\n",
    "The final step is to consolidate everything we know into one table that can be shared with the astronauts. Firstly, need a column for each type of rock that we have already identified as rocks we want more samples of:"
   ]
  },
  {
   "cell_type": "code",
   "execution_count": 30,
   "metadata": {},
   "outputs": [
    {
     "data": {
      "text/html": [
       "<div>\n",
       "<style scoped>\n",
       "    .dataframe tbody tr th:only-of-type {\n",
       "        vertical-align: middle;\n",
       "    }\n",
       "\n",
       "    .dataframe tbody tr th {\n",
       "        vertical-align: top;\n",
       "    }\n",
       "\n",
       "    .dataframe thead th {\n",
       "        text-align: right;\n",
       "    }\n",
       "</style>\n",
       "<table border=\"1\" class=\"dataframe\">\n",
       "  <thead>\n",
       "    <tr style=\"text-align: right;\">\n",
       "      <th></th>\n",
       "      <th>Type</th>\n",
       "    </tr>\n",
       "  </thead>\n",
       "  <tbody>\n",
       "    <tr>\n",
       "      <th>0</th>\n",
       "      <td>Basalt</td>\n",
       "    </tr>\n",
       "    <tr>\n",
       "      <th>1</th>\n",
       "      <td>Breccia</td>\n",
       "    </tr>\n",
       "    <tr>\n",
       "      <th>2</th>\n",
       "      <td>Crustal</td>\n",
       "    </tr>\n",
       "  </tbody>\n",
       "</table>\n",
       "</div>"
      ],
      "text/plain": [
       "      Type\n",
       "0   Basalt\n",
       "1  Breccia\n",
       "2  Crustal"
      ]
     },
     "execution_count": 30,
     "metadata": {},
     "output_type": "execute_result"
    }
   ],
   "source": [
    "needed_samples_overview = pd.DataFrame()\n",
    "needed_samples_overview['Type'] = needed_samples.Type.unique()\n",
    "needed_samples_overview"
   ]
  },
  {
   "cell_type": "code",
   "execution_count": 31,
   "metadata": {},
   "outputs": [
    {
     "data": {
      "text/html": [
       "<div>\n",
       "<style scoped>\n",
       "    .dataframe tbody tr th:only-of-type {\n",
       "        vertical-align: middle;\n",
       "    }\n",
       "\n",
       "    .dataframe tbody tr th {\n",
       "        vertical-align: top;\n",
       "    }\n",
       "\n",
       "    .dataframe thead th {\n",
       "        text-align: right;\n",
       "    }\n",
       "</style>\n",
       "<table border=\"1\" class=\"dataframe\">\n",
       "  <thead>\n",
       "    <tr style=\"text-align: right;\">\n",
       "      <th></th>\n",
       "      <th>Type</th>\n",
       "      <th>Total weight (kg)</th>\n",
       "    </tr>\n",
       "  </thead>\n",
       "  <tbody>\n",
       "    <tr>\n",
       "      <th>0</th>\n",
       "      <td>Basalt</td>\n",
       "      <td>17.42340</td>\n",
       "    </tr>\n",
       "    <tr>\n",
       "      <th>1</th>\n",
       "      <td>Breccia</td>\n",
       "      <td>10.11850</td>\n",
       "    </tr>\n",
       "    <tr>\n",
       "      <th>2</th>\n",
       "      <td>Crustal</td>\n",
       "      <td>4.74469</td>\n",
       "    </tr>\n",
       "  </tbody>\n",
       "</table>\n",
       "</div>"
      ],
      "text/plain": [
       "      Type  Total weight (kg)\n",
       "0   Basalt           17.42340\n",
       "1  Breccia           10.11850\n",
       "2  Crustal            4.74469"
      ]
     },
     "execution_count": 31,
     "metadata": {},
     "output_type": "execute_result"
    }
   ],
   "source": [
    "needed_sample_weights = needed_samples.groupby('Type')['Weight (kg)'].sum().reset_index()\n",
    "needed_samples_overview = pd.merge(needed_samples_overview, needed_sample_weights, on='Type')\n",
    "needed_samples_overview.rename(columns={'Weight (kg)':'Total weight (kg)'}, inplace=True)\n",
    "needed_samples_overview"
   ]
  },
  {
   "cell_type": "markdown",
   "metadata": {},
   "source": [
    "When astronauts are up on the Moon, one way they can identify rocks is by their size. If we can give them an estimated size of each type of rock, that might make their collection process easier."
   ]
  },
  {
   "cell_type": "code",
   "execution_count": 32,
   "metadata": {},
   "outputs": [
    {
     "data": {
      "text/html": [
       "<div>\n",
       "<style scoped>\n",
       "    .dataframe tbody tr th:only-of-type {\n",
       "        vertical-align: middle;\n",
       "    }\n",
       "\n",
       "    .dataframe tbody tr th {\n",
       "        vertical-align: top;\n",
       "    }\n",
       "\n",
       "    .dataframe thead th {\n",
       "        text-align: right;\n",
       "    }\n",
       "</style>\n",
       "<table border=\"1\" class=\"dataframe\">\n",
       "  <thead>\n",
       "    <tr style=\"text-align: right;\">\n",
       "      <th></th>\n",
       "      <th>Type</th>\n",
       "      <th>Total weight (kg)</th>\n",
       "      <th>Average weight (kg)</th>\n",
       "    </tr>\n",
       "  </thead>\n",
       "  <tbody>\n",
       "    <tr>\n",
       "      <th>0</th>\n",
       "      <td>Basalt</td>\n",
       "      <td>17.42340</td>\n",
       "      <td>1.244529</td>\n",
       "    </tr>\n",
       "    <tr>\n",
       "      <th>1</th>\n",
       "      <td>Breccia</td>\n",
       "      <td>10.11850</td>\n",
       "      <td>1.264813</td>\n",
       "    </tr>\n",
       "    <tr>\n",
       "      <th>2</th>\n",
       "      <td>Crustal</td>\n",
       "      <td>4.74469</td>\n",
       "      <td>0.103145</td>\n",
       "    </tr>\n",
       "  </tbody>\n",
       "</table>\n",
       "</div>"
      ],
      "text/plain": [
       "      Type  Total weight (kg)  Average weight (kg)\n",
       "0   Basalt           17.42340             1.244529\n",
       "1  Breccia           10.11850             1.264813\n",
       "2  Crustal            4.74469             0.103145"
      ]
     },
     "execution_count": 32,
     "metadata": {},
     "output_type": "execute_result"
    }
   ],
   "source": [
    "needed_sample_ave_weights = needed_samples.groupby('Type')['Weight (kg)'].mean().reset_index()\n",
    "needed_samples_overview = pd.merge(needed_samples_overview, needed_sample_ave_weights, on='Type')\n",
    "needed_samples_overview.rename(columns={'Weight (kg)':'Average weight (kg)'}, inplace=True)\n",
    "needed_samples_overview"
   ]
  },
  {
   "cell_type": "markdown",
   "metadata": {},
   "source": [
    "Crustals are small! They're probably a lot harder to spot, so no wonder we don't have a lot of them.\n",
    "\n",
    "We probably want to give the astronauts some indication of how many of each type we want them to collect. So, for the three types we're looking for, we should grab the total number we have of each type and get the remaining percentage of each type of rock."
   ]
  },
  {
   "cell_type": "code",
   "execution_count": 33,
   "metadata": {},
   "outputs": [
    {
     "data": {
      "text/html": [
       "<div>\n",
       "<style scoped>\n",
       "    .dataframe tbody tr th:only-of-type {\n",
       "        vertical-align: middle;\n",
       "    }\n",
       "\n",
       "    .dataframe tbody tr th {\n",
       "        vertical-align: top;\n",
       "    }\n",
       "\n",
       "    .dataframe thead th {\n",
       "        text-align: right;\n",
       "    }\n",
       "</style>\n",
       "<table border=\"1\" class=\"dataframe\">\n",
       "  <thead>\n",
       "    <tr style=\"text-align: right;\">\n",
       "      <th></th>\n",
       "      <th>Type</th>\n",
       "      <th>Total weight (kg)</th>\n",
       "      <th>Average weight (kg)</th>\n",
       "      <th>Number of samples</th>\n",
       "      <th>Percentage of rocks</th>\n",
       "    </tr>\n",
       "  </thead>\n",
       "  <tbody>\n",
       "    <tr>\n",
       "      <th>0</th>\n",
       "      <td>Basalt</td>\n",
       "      <td>17.42340</td>\n",
       "      <td>1.244529</td>\n",
       "      <td>351</td>\n",
       "      <td>0.258850</td>\n",
       "    </tr>\n",
       "    <tr>\n",
       "      <th>1</th>\n",
       "      <td>Breccia</td>\n",
       "      <td>10.11850</td>\n",
       "      <td>1.264813</td>\n",
       "      <td>959</td>\n",
       "      <td>0.707227</td>\n",
       "    </tr>\n",
       "    <tr>\n",
       "      <th>2</th>\n",
       "      <td>Crustal</td>\n",
       "      <td>4.74469</td>\n",
       "      <td>0.103145</td>\n",
       "      <td>46</td>\n",
       "      <td>0.033923</td>\n",
       "    </tr>\n",
       "  </tbody>\n",
       "</table>\n",
       "</div>"
      ],
      "text/plain": [
       "      Type  Total weight (kg)  Average weight (kg)  Number of samples  \\\n",
       "0   Basalt           17.42340             1.244529                351   \n",
       "1  Breccia           10.11850             1.264813                959   \n",
       "2  Crustal            4.74469             0.103145                 46   \n",
       "\n",
       "   Percentage of rocks  \n",
       "0             0.258850  \n",
       "1             0.707227  \n",
       "2             0.033923  "
      ]
     },
     "execution_count": 33,
     "metadata": {},
     "output_type": "execute_result"
    }
   ],
   "source": [
    "total_rock_count = rock_samples.groupby('Type')['ID'].count().reset_index()\n",
    "needed_samples_overview = pd.merge(needed_samples_overview, total_rock_count, on='Type')\n",
    "needed_samples_overview.rename(columns={'ID':'Number of samples'}, inplace=True)\n",
    "total_rocks = needed_samples_overview['Number of samples'].sum()\n",
    "needed_samples_overview['Percentage of rocks'] = needed_samples_overview['Number of samples'] / total_rocks\n",
    "needed_samples_overview"
   ]
  },
  {
   "cell_type": "markdown",
   "metadata": {},
   "source": [
    "And finally, to tie it all back into a recommendation to the Artemis program, we can determine the average weight of samples we estimated in the preceding unit."
   ]
  },
  {
   "cell_type": "code",
   "execution_count": 34,
   "metadata": {},
   "outputs": [
    {
     "data": {
      "text/plain": [
       "60.95329172619983"
      ]
     },
     "execution_count": 34,
     "metadata": {},
     "output_type": "execute_result"
    }
   ],
   "source": [
    "artemis_ave_weight = artemis_mission['Estimated sample weight (kg)'].mean()\n",
    "artemis_ave_weight"
   ]
  },
  {
   "cell_type": "markdown",
   "metadata": {},
   "source": [
    "We can use this number to determine how many of each rock we want the astronauts to aim to collect:"
   ]
  },
  {
   "cell_type": "code",
   "execution_count": 35,
   "metadata": {},
   "outputs": [
    {
     "data": {
      "text/html": [
       "<div>\n",
       "<style scoped>\n",
       "    .dataframe tbody tr th:only-of-type {\n",
       "        vertical-align: middle;\n",
       "    }\n",
       "\n",
       "    .dataframe tbody tr th {\n",
       "        vertical-align: top;\n",
       "    }\n",
       "\n",
       "    .dataframe thead th {\n",
       "        text-align: right;\n",
       "    }\n",
       "</style>\n",
       "<table border=\"1\" class=\"dataframe\">\n",
       "  <thead>\n",
       "    <tr style=\"text-align: right;\">\n",
       "      <th></th>\n",
       "      <th>Type</th>\n",
       "      <th>Total weight (kg)</th>\n",
       "      <th>Average weight (kg)</th>\n",
       "      <th>Number of samples</th>\n",
       "      <th>Percentage of rocks</th>\n",
       "      <th>Weight to collect</th>\n",
       "      <th>Rocks to collect</th>\n",
       "    </tr>\n",
       "  </thead>\n",
       "  <tbody>\n",
       "    <tr>\n",
       "      <th>0</th>\n",
       "      <td>Basalt</td>\n",
       "      <td>17.42340</td>\n",
       "      <td>1.244529</td>\n",
       "      <td>351</td>\n",
       "      <td>0.258850</td>\n",
       "      <td>15.777733</td>\n",
       "      <td>12.677678</td>\n",
       "    </tr>\n",
       "    <tr>\n",
       "      <th>1</th>\n",
       "      <td>Breccia</td>\n",
       "      <td>10.11850</td>\n",
       "      <td>1.264813</td>\n",
       "      <td>959</td>\n",
       "      <td>0.707227</td>\n",
       "      <td>43.107822</td>\n",
       "      <td>34.082381</td>\n",
       "    </tr>\n",
       "    <tr>\n",
       "      <th>2</th>\n",
       "      <td>Crustal</td>\n",
       "      <td>4.74469</td>\n",
       "      <td>0.103145</td>\n",
       "      <td>46</td>\n",
       "      <td>0.033923</td>\n",
       "      <td>2.067737</td>\n",
       "      <td>20.046811</td>\n",
       "    </tr>\n",
       "  </tbody>\n",
       "</table>\n",
       "</div>"
      ],
      "text/plain": [
       "      Type  Total weight (kg)  Average weight (kg)  Number of samples  \\\n",
       "0   Basalt           17.42340             1.244529                351   \n",
       "1  Breccia           10.11850             1.264813                959   \n",
       "2  Crustal            4.74469             0.103145                 46   \n",
       "\n",
       "   Percentage of rocks  Weight to collect  Rocks to collect  \n",
       "0             0.258850          15.777733         12.677678  \n",
       "1             0.707227          43.107822         34.082381  \n",
       "2             0.033923           2.067737         20.046811  "
      ]
     },
     "execution_count": 35,
     "metadata": {},
     "output_type": "execute_result"
    }
   ],
   "source": [
    "needed_samples_overview['Weight to collect'] = needed_samples_overview['Percentage of rocks'] * artemis_ave_weight\n",
    "needed_samples_overview['Rocks to collect'] = needed_samples_overview['Weight to collect'] / needed_samples_overview['Average weight (kg)']\n",
    "needed_samples_overview"
   ]
  },
  {
   "cell_type": "markdown",
   "metadata": {},
   "source": [
    "So, we might tell the Artemis astronauts to please try to collect 12 Basalt rocks, 34 Breccia rocks, and 20 Crustal rocks. Whew!"
   ]
  }
 ],
 "metadata": {
  "kernelspec": {
   "display_name": "Python 3 (ipykernel)",
   "language": "python",
   "name": "python3"
  },
  "language_info": {
   "codemirror_mode": {
    "name": "ipython",
    "version": 3
   },
   "file_extension": ".py",
   "mimetype": "text/x-python",
   "name": "python",
   "nbconvert_exporter": "python",
   "pygments_lexer": "ipython3",
   "version": "3.9.13"
  },
  "vscode": {
   "interpreter": {
    "hash": "337601b84ab64900ab5053f77e357713c3ad434a730cebcc873e77d3a9eab0b5"
   }
  }
 },
 "nbformat": 4,
 "nbformat_minor": 2
}
